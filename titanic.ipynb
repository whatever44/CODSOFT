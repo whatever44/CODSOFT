{
 "cells": [
  {
   "cell_type": "code",
   "execution_count": 1,
   "id": "79459bd7",
   "metadata": {},
   "outputs": [
    {
     "name": "stdout",
     "output_type": "stream",
     "text": [
      "Requirement already satisfied: skimpy in c:\\users\\user\\anaconda3\\lib\\site-packages (0.0.11)\n",
      "Requirement already satisfied: Pygments<3.0.0,>=2.10.0 in c:\\users\\user\\anaconda3\\lib\\site-packages (from skimpy) (2.15.1)\n",
      "Requirement already satisfied: click<9.0.0,>=8.1.6 in c:\\users\\user\\anaconda3\\lib\\site-packages (from skimpy) (8.1.7)\n",
      "Requirement already satisfied: ipykernel<7.0.0,>=6.7.0 in c:\\users\\user\\anaconda3\\lib\\site-packages (from skimpy) (6.25.0)\n",
      "Requirement already satisfied: jupyter<2.0.0,>=1.0.0 in c:\\users\\user\\anaconda3\\lib\\site-packages (from skimpy) (1.0.0)\n",
      "Requirement already satisfied: numpy<2.0.0,>=1.22.2 in c:\\users\\user\\anaconda3\\lib\\site-packages (from skimpy) (1.24.3)\n",
      "Requirement already satisfied: pandas<3.0.0,>=2.0.3 in c:\\users\\user\\anaconda3\\lib\\site-packages (from skimpy) (2.0.3)\n",
      "Requirement already satisfied: polars<0.20.0,>=0.19.0 in c:\\users\\user\\anaconda3\\lib\\site-packages (from skimpy) (0.19.19)\n",
      "Requirement already satisfied: pyarrow<14.0.0,>=13.0.0 in c:\\users\\user\\anaconda3\\lib\\site-packages (from skimpy) (13.0.0)\n",
      "Requirement already satisfied: rich<14.0,>=10.9 in c:\\users\\user\\anaconda3\\lib\\site-packages (from skimpy) (13.7.0)\n",
      "Requirement already satisfied: typeguard==4.1.4 in c:\\users\\user\\anaconda3\\lib\\site-packages (from skimpy) (4.1.4)\n",
      "Requirement already satisfied: typing-extensions>=4.7.0 in c:\\users\\user\\anaconda3\\lib\\site-packages (from typeguard==4.1.4->skimpy) (4.7.1)\n",
      "Requirement already satisfied: colorama in c:\\users\\user\\anaconda3\\lib\\site-packages (from click<9.0.0,>=8.1.6->skimpy) (0.4.6)\n",
      "Requirement already satisfied: comm>=0.1.1 in c:\\users\\user\\anaconda3\\lib\\site-packages (from ipykernel<7.0.0,>=6.7.0->skimpy) (0.1.2)\n",
      "Requirement already satisfied: debugpy>=1.6.5 in c:\\users\\user\\anaconda3\\lib\\site-packages (from ipykernel<7.0.0,>=6.7.0->skimpy) (1.6.7)\n",
      "Requirement already satisfied: ipython>=7.23.1 in c:\\users\\user\\anaconda3\\lib\\site-packages (from ipykernel<7.0.0,>=6.7.0->skimpy) (8.15.0)\n",
      "Requirement already satisfied: jupyter-client>=6.1.12 in c:\\users\\user\\anaconda3\\lib\\site-packages (from ipykernel<7.0.0,>=6.7.0->skimpy) (7.4.9)\n",
      "Requirement already satisfied: jupyter-core!=5.0.*,>=4.12 in c:\\users\\user\\anaconda3\\lib\\site-packages (from ipykernel<7.0.0,>=6.7.0->skimpy) (5.3.0)\n",
      "Requirement already satisfied: matplotlib-inline>=0.1 in c:\\users\\user\\anaconda3\\lib\\site-packages (from ipykernel<7.0.0,>=6.7.0->skimpy) (0.1.6)\n",
      "Requirement already satisfied: nest-asyncio in c:\\users\\user\\anaconda3\\lib\\site-packages (from ipykernel<7.0.0,>=6.7.0->skimpy) (1.5.6)\n",
      "Requirement already satisfied: packaging in c:\\users\\user\\anaconda3\\lib\\site-packages (from ipykernel<7.0.0,>=6.7.0->skimpy) (23.1)\n",
      "Requirement already satisfied: psutil in c:\\users\\user\\anaconda3\\lib\\site-packages (from ipykernel<7.0.0,>=6.7.0->skimpy) (5.9.0)\n",
      "Requirement already satisfied: pyzmq>=20 in c:\\users\\user\\anaconda3\\lib\\site-packages (from ipykernel<7.0.0,>=6.7.0->skimpy) (23.2.0)\n",
      "Requirement already satisfied: tornado>=6.1 in c:\\users\\user\\anaconda3\\lib\\site-packages (from ipykernel<7.0.0,>=6.7.0->skimpy) (6.3.2)\n",
      "Requirement already satisfied: traitlets>=5.4.0 in c:\\users\\user\\anaconda3\\lib\\site-packages (from ipykernel<7.0.0,>=6.7.0->skimpy) (5.7.1)\n",
      "Requirement already satisfied: notebook in c:\\users\\user\\anaconda3\\lib\\site-packages (from jupyter<2.0.0,>=1.0.0->skimpy) (6.5.4)\n",
      "Requirement already satisfied: qtconsole in c:\\users\\user\\anaconda3\\lib\\site-packages (from jupyter<2.0.0,>=1.0.0->skimpy) (5.4.2)\n",
      "Requirement already satisfied: jupyter-console in c:\\users\\user\\anaconda3\\lib\\site-packages (from jupyter<2.0.0,>=1.0.0->skimpy) (6.6.3)\n",
      "Requirement already satisfied: nbconvert in c:\\users\\user\\anaconda3\\lib\\site-packages (from jupyter<2.0.0,>=1.0.0->skimpy) (6.5.4)\n",
      "Requirement already satisfied: ipywidgets in c:\\users\\user\\anaconda3\\lib\\site-packages (from jupyter<2.0.0,>=1.0.0->skimpy) (8.0.4)\n",
      "Requirement already satisfied: python-dateutil>=2.8.2 in c:\\users\\user\\anaconda3\\lib\\site-packages (from pandas<3.0.0,>=2.0.3->skimpy) (2.8.2)\n",
      "Requirement already satisfied: pytz>=2020.1 in c:\\users\\user\\anaconda3\\lib\\site-packages (from pandas<3.0.0,>=2.0.3->skimpy) (2023.3.post1)\n",
      "Requirement already satisfied: tzdata>=2022.1 in c:\\users\\user\\anaconda3\\lib\\site-packages (from pandas<3.0.0,>=2.0.3->skimpy) (2023.3)\n",
      "Requirement already satisfied: markdown-it-py>=2.2.0 in c:\\users\\user\\anaconda3\\lib\\site-packages (from rich<14.0,>=10.9->skimpy) (2.2.0)\n",
      "Requirement already satisfied: backcall in c:\\users\\user\\anaconda3\\lib\\site-packages (from ipython>=7.23.1->ipykernel<7.0.0,>=6.7.0->skimpy) (0.2.0)\n",
      "Requirement already satisfied: decorator in c:\\users\\user\\anaconda3\\lib\\site-packages (from ipython>=7.23.1->ipykernel<7.0.0,>=6.7.0->skimpy) (5.1.1)\n",
      "Requirement already satisfied: jedi>=0.16 in c:\\users\\user\\anaconda3\\lib\\site-packages (from ipython>=7.23.1->ipykernel<7.0.0,>=6.7.0->skimpy) (0.18.1)\n",
      "Requirement already satisfied: pickleshare in c:\\users\\user\\anaconda3\\lib\\site-packages (from ipython>=7.23.1->ipykernel<7.0.0,>=6.7.0->skimpy) (0.7.5)\n",
      "Requirement already satisfied: prompt-toolkit!=3.0.37,<3.1.0,>=3.0.30 in c:\\users\\user\\anaconda3\\lib\\site-packages (from ipython>=7.23.1->ipykernel<7.0.0,>=6.7.0->skimpy) (3.0.36)\n",
      "Requirement already satisfied: stack-data in c:\\users\\user\\anaconda3\\lib\\site-packages (from ipython>=7.23.1->ipykernel<7.0.0,>=6.7.0->skimpy) (0.2.0)\n",
      "Requirement already satisfied: entrypoints in c:\\users\\user\\anaconda3\\lib\\site-packages (from jupyter-client>=6.1.12->ipykernel<7.0.0,>=6.7.0->skimpy) (0.4)\n",
      "Requirement already satisfied: platformdirs>=2.5 in c:\\users\\user\\anaconda3\\lib\\site-packages (from jupyter-core!=5.0.*,>=4.12->ipykernel<7.0.0,>=6.7.0->skimpy) (3.10.0)\n",
      "Requirement already satisfied: pywin32>=300 in c:\\users\\user\\anaconda3\\lib\\site-packages (from jupyter-core!=5.0.*,>=4.12->ipykernel<7.0.0,>=6.7.0->skimpy) (305.1)\n",
      "Requirement already satisfied: mdurl~=0.1 in c:\\users\\user\\anaconda3\\lib\\site-packages (from markdown-it-py>=2.2.0->rich<14.0,>=10.9->skimpy) (0.1.0)\n",
      "Requirement already satisfied: six>=1.5 in c:\\users\\user\\anaconda3\\lib\\site-packages (from python-dateutil>=2.8.2->pandas<3.0.0,>=2.0.3->skimpy) (1.16.0)\n",
      "Requirement already satisfied: widgetsnbextension~=4.0 in c:\\users\\user\\anaconda3\\lib\\site-packages (from ipywidgets->jupyter<2.0.0,>=1.0.0->skimpy) (4.0.5)\n",
      "Requirement already satisfied: jupyterlab-widgets~=3.0 in c:\\users\\user\\anaconda3\\lib\\site-packages (from ipywidgets->jupyter<2.0.0,>=1.0.0->skimpy) (3.0.5)\n",
      "Requirement already satisfied: lxml in c:\\users\\user\\anaconda3\\lib\\site-packages (from nbconvert->jupyter<2.0.0,>=1.0.0->skimpy) (4.9.3)\n",
      "Requirement already satisfied: beautifulsoup4 in c:\\users\\user\\anaconda3\\lib\\site-packages (from nbconvert->jupyter<2.0.0,>=1.0.0->skimpy) (4.12.2)\n",
      "Requirement already satisfied: bleach in c:\\users\\user\\anaconda3\\lib\\site-packages (from nbconvert->jupyter<2.0.0,>=1.0.0->skimpy) (4.1.0)\n",
      "Requirement already satisfied: defusedxml in c:\\users\\user\\anaconda3\\lib\\site-packages (from nbconvert->jupyter<2.0.0,>=1.0.0->skimpy) (0.7.1)\n",
      "Requirement already satisfied: jinja2>=3.0 in c:\\users\\user\\anaconda3\\lib\\site-packages (from nbconvert->jupyter<2.0.0,>=1.0.0->skimpy) (3.1.2)\n",
      "Requirement already satisfied: jupyterlab-pygments in c:\\users\\user\\anaconda3\\lib\\site-packages (from nbconvert->jupyter<2.0.0,>=1.0.0->skimpy) (0.1.2)\n",
      "Requirement already satisfied: MarkupSafe>=2.0 in c:\\users\\user\\anaconda3\\lib\\site-packages (from nbconvert->jupyter<2.0.0,>=1.0.0->skimpy) (2.1.1)\n",
      "Requirement already satisfied: mistune<2,>=0.8.1 in c:\\users\\user\\anaconda3\\lib\\site-packages (from nbconvert->jupyter<2.0.0,>=1.0.0->skimpy) (0.8.4)\n",
      "Requirement already satisfied: nbclient>=0.5.0 in c:\\users\\user\\anaconda3\\lib\\site-packages (from nbconvert->jupyter<2.0.0,>=1.0.0->skimpy) (0.5.13)\n",
      "Requirement already satisfied: nbformat>=5.1 in c:\\users\\user\\anaconda3\\lib\\site-packages (from nbconvert->jupyter<2.0.0,>=1.0.0->skimpy) (5.9.2)\n",
      "Requirement already satisfied: pandocfilters>=1.4.1 in c:\\users\\user\\anaconda3\\lib\\site-packages (from nbconvert->jupyter<2.0.0,>=1.0.0->skimpy) (1.5.0)\n",
      "Requirement already satisfied: tinycss2 in c:\\users\\user\\anaconda3\\lib\\site-packages (from nbconvert->jupyter<2.0.0,>=1.0.0->skimpy) (1.2.1)\n",
      "Requirement already satisfied: argon2-cffi in c:\\users\\user\\anaconda3\\lib\\site-packages (from notebook->jupyter<2.0.0,>=1.0.0->skimpy) (21.3.0)\n",
      "Requirement already satisfied: ipython-genutils in c:\\users\\user\\anaconda3\\lib\\site-packages (from notebook->jupyter<2.0.0,>=1.0.0->skimpy) (0.2.0)\n",
      "Requirement already satisfied: Send2Trash>=1.8.0 in c:\\users\\user\\anaconda3\\lib\\site-packages (from notebook->jupyter<2.0.0,>=1.0.0->skimpy) (1.8.0)\n",
      "Requirement already satisfied: terminado>=0.8.3 in c:\\users\\user\\anaconda3\\lib\\site-packages (from notebook->jupyter<2.0.0,>=1.0.0->skimpy) (0.17.1)\n",
      "Requirement already satisfied: prometheus-client in c:\\users\\user\\anaconda3\\lib\\site-packages (from notebook->jupyter<2.0.0,>=1.0.0->skimpy) (0.14.1)\n",
      "Requirement already satisfied: nbclassic>=0.4.7 in c:\\users\\user\\anaconda3\\lib\\site-packages (from notebook->jupyter<2.0.0,>=1.0.0->skimpy) (0.5.5)\n",
      "Requirement already satisfied: qtpy>=2.0.1 in c:\\users\\user\\anaconda3\\lib\\site-packages (from qtconsole->jupyter<2.0.0,>=1.0.0->skimpy) (2.2.0)\n",
      "Requirement already satisfied: parso<0.9.0,>=0.8.0 in c:\\users\\user\\anaconda3\\lib\\site-packages (from jedi>=0.16->ipython>=7.23.1->ipykernel<7.0.0,>=6.7.0->skimpy) (0.8.3)\n",
      "Requirement already satisfied: jupyter-server>=1.8 in c:\\users\\user\\anaconda3\\lib\\site-packages (from nbclassic>=0.4.7->notebook->jupyter<2.0.0,>=1.0.0->skimpy) (1.23.4)\n",
      "Requirement already satisfied: notebook-shim>=0.1.0 in c:\\users\\user\\anaconda3\\lib\\site-packages (from nbclassic>=0.4.7->notebook->jupyter<2.0.0,>=1.0.0->skimpy) (0.2.2)\n",
      "Requirement already satisfied: fastjsonschema in c:\\users\\user\\anaconda3\\lib\\site-packages (from nbformat>=5.1->nbconvert->jupyter<2.0.0,>=1.0.0->skimpy) (2.16.2)\n",
      "Requirement already satisfied: jsonschema>=2.6 in c:\\users\\user\\anaconda3\\lib\\site-packages (from nbformat>=5.1->nbconvert->jupyter<2.0.0,>=1.0.0->skimpy) (4.17.3)\n",
      "Requirement already satisfied: wcwidth in c:\\users\\user\\anaconda3\\lib\\site-packages (from prompt-toolkit!=3.0.37,<3.1.0,>=3.0.30->ipython>=7.23.1->ipykernel<7.0.0,>=6.7.0->skimpy) (0.2.5)\n",
      "Requirement already satisfied: pywinpty>=1.1.0 in c:\\users\\user\\anaconda3\\lib\\site-packages (from terminado>=0.8.3->notebook->jupyter<2.0.0,>=1.0.0->skimpy) (2.0.10)\n",
      "Requirement already satisfied: argon2-cffi-bindings in c:\\users\\user\\anaconda3\\lib\\site-packages (from argon2-cffi->notebook->jupyter<2.0.0,>=1.0.0->skimpy) (21.2.0)\n",
      "Requirement already satisfied: soupsieve>1.2 in c:\\users\\user\\anaconda3\\lib\\site-packages (from beautifulsoup4->nbconvert->jupyter<2.0.0,>=1.0.0->skimpy) (2.4)\n",
      "Requirement already satisfied: webencodings in c:\\users\\user\\anaconda3\\lib\\site-packages (from bleach->nbconvert->jupyter<2.0.0,>=1.0.0->skimpy) (0.5.1)\n",
      "Requirement already satisfied: executing in c:\\users\\user\\anaconda3\\lib\\site-packages (from stack-data->ipython>=7.23.1->ipykernel<7.0.0,>=6.7.0->skimpy) (0.8.3)\n",
      "Requirement already satisfied: asttokens in c:\\users\\user\\anaconda3\\lib\\site-packages (from stack-data->ipython>=7.23.1->ipykernel<7.0.0,>=6.7.0->skimpy) (2.0.5)\n",
      "Requirement already satisfied: pure-eval in c:\\users\\user\\anaconda3\\lib\\site-packages (from stack-data->ipython>=7.23.1->ipykernel<7.0.0,>=6.7.0->skimpy) (0.2.2)\n",
      "Requirement already satisfied: attrs>=17.4.0 in c:\\users\\user\\anaconda3\\lib\\site-packages (from jsonschema>=2.6->nbformat>=5.1->nbconvert->jupyter<2.0.0,>=1.0.0->skimpy) (22.1.0)\n",
      "Requirement already satisfied: pyrsistent!=0.17.0,!=0.17.1,!=0.17.2,>=0.14.0 in c:\\users\\user\\anaconda3\\lib\\site-packages (from jsonschema>=2.6->nbformat>=5.1->nbconvert->jupyter<2.0.0,>=1.0.0->skimpy) (0.18.0)\n",
      "Requirement already satisfied: anyio<4,>=3.1.0 in c:\\users\\user\\anaconda3\\lib\\site-packages (from jupyter-server>=1.8->nbclassic>=0.4.7->notebook->jupyter<2.0.0,>=1.0.0->skimpy) (3.5.0)\n",
      "Requirement already satisfied: websocket-client in c:\\users\\user\\anaconda3\\lib\\site-packages (from jupyter-server>=1.8->nbclassic>=0.4.7->notebook->jupyter<2.0.0,>=1.0.0->skimpy) (0.58.0)\n",
      "Requirement already satisfied: cffi>=1.0.1 in c:\\users\\user\\anaconda3\\lib\\site-packages (from argon2-cffi-bindings->argon2-cffi->notebook->jupyter<2.0.0,>=1.0.0->skimpy) (1.15.1)\n",
      "Requirement already satisfied: idna>=2.8 in c:\\users\\user\\anaconda3\\lib\\site-packages (from anyio<4,>=3.1.0->jupyter-server>=1.8->nbclassic>=0.4.7->notebook->jupyter<2.0.0,>=1.0.0->skimpy) (3.4)\n",
      "Requirement already satisfied: sniffio>=1.1 in c:\\users\\user\\anaconda3\\lib\\site-packages (from anyio<4,>=3.1.0->jupyter-server>=1.8->nbclassic>=0.4.7->notebook->jupyter<2.0.0,>=1.0.0->skimpy) (1.2.0)\n",
      "Requirement already satisfied: pycparser in c:\\users\\user\\anaconda3\\lib\\site-packages (from cffi>=1.0.1->argon2-cffi-bindings->argon2-cffi->notebook->jupyter<2.0.0,>=1.0.0->skimpy) (2.21)\n"
     ]
    }
   ],
   "source": [
    "!pip install skimpy"
   ]
  },
  {
   "cell_type": "code",
   "execution_count": 57,
   "id": "d09a451b",
   "metadata": {},
   "outputs": [],
   "source": [
    "import pandas as pd\n",
    "import numpy as np\n",
    "import matplotlib.pyplot as plt\n",
    "import seaborn as sns\n",
    "from skimpy import skim\n",
    "from sklearn.linear_model import LogisticRegression\n",
    "from sklearn.model_selection import train_test_split\n",
    "from sklearn.metrics import accuracy_score\n",
    "from sklearn.preprocessing import StandardScaler\n",
    "from sklearn.metrics import confusion_matrix"
   ]
  },
  {
   "cell_type": "code",
   "execution_count": 40,
   "id": "b4bfa20b",
   "metadata": {},
   "outputs": [],
   "source": [
    "df=pd.read_csv(\"tested.csv\")"
   ]
  },
  {
   "cell_type": "code",
   "execution_count": 41,
   "id": "3edfa710",
   "metadata": {},
   "outputs": [
    {
     "data": {
      "text/html": [
       "<div>\n",
       "<style scoped>\n",
       "    .dataframe tbody tr th:only-of-type {\n",
       "        vertical-align: middle;\n",
       "    }\n",
       "\n",
       "    .dataframe tbody tr th {\n",
       "        vertical-align: top;\n",
       "    }\n",
       "\n",
       "    .dataframe thead th {\n",
       "        text-align: right;\n",
       "    }\n",
       "</style>\n",
       "<table border=\"1\" class=\"dataframe\">\n",
       "  <thead>\n",
       "    <tr style=\"text-align: right;\">\n",
       "      <th></th>\n",
       "      <th>PassengerId</th>\n",
       "      <th>Survived</th>\n",
       "      <th>Pclass</th>\n",
       "      <th>Name</th>\n",
       "      <th>Sex</th>\n",
       "      <th>Age</th>\n",
       "      <th>SibSp</th>\n",
       "      <th>Parch</th>\n",
       "      <th>Ticket</th>\n",
       "      <th>Fare</th>\n",
       "      <th>Cabin</th>\n",
       "      <th>Embarked</th>\n",
       "    </tr>\n",
       "  </thead>\n",
       "  <tbody>\n",
       "    <tr>\n",
       "      <th>0</th>\n",
       "      <td>892</td>\n",
       "      <td>0</td>\n",
       "      <td>3</td>\n",
       "      <td>Kelly, Mr. James</td>\n",
       "      <td>male</td>\n",
       "      <td>34.5</td>\n",
       "      <td>0</td>\n",
       "      <td>0</td>\n",
       "      <td>330911</td>\n",
       "      <td>7.8292</td>\n",
       "      <td>NaN</td>\n",
       "      <td>Q</td>\n",
       "    </tr>\n",
       "    <tr>\n",
       "      <th>1</th>\n",
       "      <td>893</td>\n",
       "      <td>1</td>\n",
       "      <td>3</td>\n",
       "      <td>Wilkes, Mrs. James (Ellen Needs)</td>\n",
       "      <td>female</td>\n",
       "      <td>47.0</td>\n",
       "      <td>1</td>\n",
       "      <td>0</td>\n",
       "      <td>363272</td>\n",
       "      <td>7.0000</td>\n",
       "      <td>NaN</td>\n",
       "      <td>S</td>\n",
       "    </tr>\n",
       "    <tr>\n",
       "      <th>2</th>\n",
       "      <td>894</td>\n",
       "      <td>0</td>\n",
       "      <td>2</td>\n",
       "      <td>Myles, Mr. Thomas Francis</td>\n",
       "      <td>male</td>\n",
       "      <td>62.0</td>\n",
       "      <td>0</td>\n",
       "      <td>0</td>\n",
       "      <td>240276</td>\n",
       "      <td>9.6875</td>\n",
       "      <td>NaN</td>\n",
       "      <td>Q</td>\n",
       "    </tr>\n",
       "    <tr>\n",
       "      <th>3</th>\n",
       "      <td>895</td>\n",
       "      <td>0</td>\n",
       "      <td>3</td>\n",
       "      <td>Wirz, Mr. Albert</td>\n",
       "      <td>male</td>\n",
       "      <td>27.0</td>\n",
       "      <td>0</td>\n",
       "      <td>0</td>\n",
       "      <td>315154</td>\n",
       "      <td>8.6625</td>\n",
       "      <td>NaN</td>\n",
       "      <td>S</td>\n",
       "    </tr>\n",
       "    <tr>\n",
       "      <th>4</th>\n",
       "      <td>896</td>\n",
       "      <td>1</td>\n",
       "      <td>3</td>\n",
       "      <td>Hirvonen, Mrs. Alexander (Helga E Lindqvist)</td>\n",
       "      <td>female</td>\n",
       "      <td>22.0</td>\n",
       "      <td>1</td>\n",
       "      <td>1</td>\n",
       "      <td>3101298</td>\n",
       "      <td>12.2875</td>\n",
       "      <td>NaN</td>\n",
       "      <td>S</td>\n",
       "    </tr>\n",
       "  </tbody>\n",
       "</table>\n",
       "</div>"
      ],
      "text/plain": [
       "   PassengerId  Survived  Pclass  \\\n",
       "0          892         0       3   \n",
       "1          893         1       3   \n",
       "2          894         0       2   \n",
       "3          895         0       3   \n",
       "4          896         1       3   \n",
       "\n",
       "                                           Name     Sex   Age  SibSp  Parch  \\\n",
       "0                              Kelly, Mr. James    male  34.5      0      0   \n",
       "1              Wilkes, Mrs. James (Ellen Needs)  female  47.0      1      0   \n",
       "2                     Myles, Mr. Thomas Francis    male  62.0      0      0   \n",
       "3                              Wirz, Mr. Albert    male  27.0      0      0   \n",
       "4  Hirvonen, Mrs. Alexander (Helga E Lindqvist)  female  22.0      1      1   \n",
       "\n",
       "    Ticket     Fare Cabin Embarked  \n",
       "0   330911   7.8292   NaN        Q  \n",
       "1   363272   7.0000   NaN        S  \n",
       "2   240276   9.6875   NaN        Q  \n",
       "3   315154   8.6625   NaN        S  \n",
       "4  3101298  12.2875   NaN        S  "
      ]
     },
     "execution_count": 41,
     "metadata": {},
     "output_type": "execute_result"
    }
   ],
   "source": [
    "df.head()"
   ]
  },
  {
   "cell_type": "code",
   "execution_count": 42,
   "id": "673040c4",
   "metadata": {},
   "outputs": [
    {
     "data": {
      "text/html": [
       "<pre style=\"white-space:pre;overflow-x:auto;line-height:normal;font-family:Menlo,'DejaVu Sans Mono',consolas,'Courier New',monospace\">╭──────────────────────────────────────────────── skimpy summary ─────────────────────────────────────────────────╮\n",
       "│ <span style=\"font-style: italic\">         Data Summary         </span> <span style=\"font-style: italic\">      Data Types       </span>                                                          │\n",
       "│ ┏━━━━━━━━━━━━━━━━━━━┳━━━━━━━━┓ ┏━━━━━━━━━━━━━┳━━━━━━━┓                                                          │\n",
       "│ ┃<span style=\"color: #008080; text-decoration-color: #008080; font-weight: bold\"> dataframe         </span>┃<span style=\"color: #008080; text-decoration-color: #008080; font-weight: bold\"> Values </span>┃ ┃<span style=\"color: #008080; text-decoration-color: #008080; font-weight: bold\"> Column Type </span>┃<span style=\"color: #008080; text-decoration-color: #008080; font-weight: bold\"> Count </span>┃                                                          │\n",
       "│ ┡━━━━━━━━━━━━━━━━━━━╇━━━━━━━━┩ ┡━━━━━━━━━━━━━╇━━━━━━━┩                                                          │\n",
       "│ │ Number of rows    │ 418    │ │ int32       │ 5     │                                                          │\n",
       "│ │ Number of columns │ 12     │ │ string      │ 5     │                                                          │\n",
       "│ └───────────────────┴────────┘ │ float64     │ 2     │                                                          │\n",
       "│                                └─────────────┴───────┘                                                          │\n",
       "│ <span style=\"font-style: italic\">                                                    number                                                    </span>  │\n",
       "│ ┏━━━━━━━━━━━━━━━━━━┳━━━━━━┳━━━━━━━━━━┳━━━━━━━━┳━━━━━━━━┳━━━━━━━━┳━━━━━━━━┳━━━━━━━━┳━━━━━━━━┳━━━━━━━┳━━━━━━━━━┓  │\n",
       "│ ┃<span style=\"font-weight: bold\"> column_name      </span>┃<span style=\"font-weight: bold\"> NA   </span>┃<span style=\"font-weight: bold\"> NA %     </span>┃<span style=\"font-weight: bold\"> mean   </span>┃<span style=\"font-weight: bold\"> sd     </span>┃<span style=\"font-weight: bold\"> p0     </span>┃<span style=\"font-weight: bold\"> p25    </span>┃<span style=\"font-weight: bold\"> p50    </span>┃<span style=\"font-weight: bold\"> p75    </span>┃<span style=\"font-weight: bold\"> p100  </span>┃<span style=\"font-weight: bold\"> hist    </span>┃  │\n",
       "│ ┡━━━━━━━━━━━━━━━━━━╇━━━━━━╇━━━━━━━━━━╇━━━━━━━━╇━━━━━━━━╇━━━━━━━━╇━━━━━━━━╇━━━━━━━━╇━━━━━━━━╇━━━━━━━╇━━━━━━━━━┩  │\n",
       "│ │ <span style=\"color: #af87ff; text-decoration-color: #af87ff\">PassengerId     </span> │ <span style=\"color: #008080; text-decoration-color: #008080\">   0</span> │ <span style=\"color: #008080; text-decoration-color: #008080\">       0</span> │ <span style=\"color: #008080; text-decoration-color: #008080\">  1100</span> │ <span style=\"color: #008080; text-decoration-color: #008080\">   120</span> │ <span style=\"color: #008080; text-decoration-color: #008080\">   890</span> │ <span style=\"color: #008080; text-decoration-color: #008080\">  1000</span> │ <span style=\"color: #008080; text-decoration-color: #008080\">  1100</span> │ <span style=\"color: #008080; text-decoration-color: #008080\">  1200</span> │ <span style=\"color: #008080; text-decoration-color: #008080\"> 1300</span> │ <span style=\"color: #008000; text-decoration-color: #008000\">▇▇▇▇▇▇ </span> │  │\n",
       "│ │ <span style=\"color: #af87ff; text-decoration-color: #af87ff\">Survived        </span> │ <span style=\"color: #008080; text-decoration-color: #008080\">   0</span> │ <span style=\"color: #008080; text-decoration-color: #008080\">       0</span> │ <span style=\"color: #008080; text-decoration-color: #008080\">  0.36</span> │ <span style=\"color: #008080; text-decoration-color: #008080\">  0.48</span> │ <span style=\"color: #008080; text-decoration-color: #008080\">     0</span> │ <span style=\"color: #008080; text-decoration-color: #008080\">     0</span> │ <span style=\"color: #008080; text-decoration-color: #008080\">     0</span> │ <span style=\"color: #008080; text-decoration-color: #008080\">     1</span> │ <span style=\"color: #008080; text-decoration-color: #008080\">    1</span> │ <span style=\"color: #008000; text-decoration-color: #008000\">▇    ▅ </span> │  │\n",
       "│ │ <span style=\"color: #af87ff; text-decoration-color: #af87ff\">Pclass          </span> │ <span style=\"color: #008080; text-decoration-color: #008080\">   0</span> │ <span style=\"color: #008080; text-decoration-color: #008080\">       0</span> │ <span style=\"color: #008080; text-decoration-color: #008080\">   2.3</span> │ <span style=\"color: #008080; text-decoration-color: #008080\">  0.84</span> │ <span style=\"color: #008080; text-decoration-color: #008080\">     1</span> │ <span style=\"color: #008080; text-decoration-color: #008080\">     1</span> │ <span style=\"color: #008080; text-decoration-color: #008080\">     3</span> │ <span style=\"color: #008080; text-decoration-color: #008080\">     3</span> │ <span style=\"color: #008080; text-decoration-color: #008080\">    3</span> │ <span style=\"color: #008000; text-decoration-color: #008000\">▃  ▃ ▇ </span> │  │\n",
       "│ │ <span style=\"color: #af87ff; text-decoration-color: #af87ff\">Age             </span> │ <span style=\"color: #008080; text-decoration-color: #008080\">  86</span> │ <span style=\"color: #008080; text-decoration-color: #008080\">   20.57</span> │ <span style=\"color: #008080; text-decoration-color: #008080\">    30</span> │ <span style=\"color: #008080; text-decoration-color: #008080\">    14</span> │ <span style=\"color: #008080; text-decoration-color: #008080\">  0.17</span> │ <span style=\"color: #008080; text-decoration-color: #008080\">    21</span> │ <span style=\"color: #008080; text-decoration-color: #008080\">    27</span> │ <span style=\"color: #008080; text-decoration-color: #008080\">    39</span> │ <span style=\"color: #008080; text-decoration-color: #008080\">   76</span> │ <span style=\"color: #008000; text-decoration-color: #008000\"> ▂▇▇▃▂ </span> │  │\n",
       "│ │ <span style=\"color: #af87ff; text-decoration-color: #af87ff\">SibSp           </span> │ <span style=\"color: #008080; text-decoration-color: #008080\">   0</span> │ <span style=\"color: #008080; text-decoration-color: #008080\">       0</span> │ <span style=\"color: #008080; text-decoration-color: #008080\">  0.45</span> │ <span style=\"color: #008080; text-decoration-color: #008080\">   0.9</span> │ <span style=\"color: #008080; text-decoration-color: #008080\">     0</span> │ <span style=\"color: #008080; text-decoration-color: #008080\">     0</span> │ <span style=\"color: #008080; text-decoration-color: #008080\">     0</span> │ <span style=\"color: #008080; text-decoration-color: #008080\">     1</span> │ <span style=\"color: #008080; text-decoration-color: #008080\">    8</span> │ <span style=\"color: #008000; text-decoration-color: #008000\">   ▇   </span> │  │\n",
       "│ │ <span style=\"color: #af87ff; text-decoration-color: #af87ff\">Parch           </span> │ <span style=\"color: #008080; text-decoration-color: #008080\">   0</span> │ <span style=\"color: #008080; text-decoration-color: #008080\">       0</span> │ <span style=\"color: #008080; text-decoration-color: #008080\">  0.39</span> │ <span style=\"color: #008080; text-decoration-color: #008080\">  0.98</span> │ <span style=\"color: #008080; text-decoration-color: #008080\">     0</span> │ <span style=\"color: #008080; text-decoration-color: #008080\">     0</span> │ <span style=\"color: #008080; text-decoration-color: #008080\">     0</span> │ <span style=\"color: #008080; text-decoration-color: #008080\">     0</span> │ <span style=\"color: #008080; text-decoration-color: #008080\">    9</span> │ <span style=\"color: #008000; text-decoration-color: #008000\">  ▇▁   </span> │  │\n",
       "│ │ <span style=\"color: #af87ff; text-decoration-color: #af87ff\">Fare            </span> │ <span style=\"color: #008080; text-decoration-color: #008080\">   1</span> │ <span style=\"color: #008080; text-decoration-color: #008080\">    0.24</span> │ <span style=\"color: #008080; text-decoration-color: #008080\">    36</span> │ <span style=\"color: #008080; text-decoration-color: #008080\">    56</span> │ <span style=\"color: #008080; text-decoration-color: #008080\">     0</span> │ <span style=\"color: #008080; text-decoration-color: #008080\">   7.9</span> │ <span style=\"color: #008080; text-decoration-color: #008080\">    14</span> │ <span style=\"color: #008080; text-decoration-color: #008080\">    32</span> │ <span style=\"color: #008080; text-decoration-color: #008080\">  510</span> │ <span style=\"color: #008000; text-decoration-color: #008000\">   ▇   </span> │  │\n",
       "│ └──────────────────┴──────┴──────────┴────────┴────────┴────────┴────────┴────────┴────────┴───────┴─────────┘  │\n",
       "│ <span style=\"font-style: italic\">                                                    string                                                    </span>  │\n",
       "│ ┏━━━━━━━━━━━━━━━━━━━━━━━━━━┳━━━━━━━━━━┳━━━━━━━━━━━━━━┳━━━━━━━━━━━━━━━━━━━━━━━━━━━━━┳━━━━━━━━━━━━━━━━━━━━━━━━━┓  │\n",
       "│ ┃<span style=\"font-weight: bold\"> column_name              </span>┃<span style=\"font-weight: bold\"> NA       </span>┃<span style=\"font-weight: bold\"> NA %         </span>┃<span style=\"font-weight: bold\"> words per row               </span>┃<span style=\"font-weight: bold\"> total words             </span>┃  │\n",
       "│ ┡━━━━━━━━━━━━━━━━━━━━━━━━━━╇━━━━━━━━━━╇━━━━━━━━━━━━━━╇━━━━━━━━━━━━━━━━━━━━━━━━━━━━━╇━━━━━━━━━━━━━━━━━━━━━━━━━┩  │\n",
       "│ │ <span style=\"color: #af87ff; text-decoration-color: #af87ff\">Name                    </span> │ <span style=\"color: #008080; text-decoration-color: #008080\">       0</span> │ <span style=\"color: #008080; text-decoration-color: #008080\">           0</span> │ <span style=\"color: #008080; text-decoration-color: #008080\">                        4.1</span> │ <span style=\"color: #008080; text-decoration-color: #008080\">                   1727</span> │  │\n",
       "│ │ <span style=\"color: #af87ff; text-decoration-color: #af87ff\">Sex                     </span> │ <span style=\"color: #008080; text-decoration-color: #008080\">       0</span> │ <span style=\"color: #008080; text-decoration-color: #008080\">           0</span> │ <span style=\"color: #008080; text-decoration-color: #008080\">                          1</span> │ <span style=\"color: #008080; text-decoration-color: #008080\">                    418</span> │  │\n",
       "│ │ <span style=\"color: #af87ff; text-decoration-color: #af87ff\">Ticket                  </span> │ <span style=\"color: #008080; text-decoration-color: #008080\">       0</span> │ <span style=\"color: #008080; text-decoration-color: #008080\">           0</span> │ <span style=\"color: #008080; text-decoration-color: #008080\">                        1.3</span> │ <span style=\"color: #008080; text-decoration-color: #008080\">                    543</span> │  │\n",
       "│ │ <span style=\"color: #af87ff; text-decoration-color: #af87ff\">Cabin                   </span> │ <span style=\"color: #008080; text-decoration-color: #008080\">     327</span> │ <span style=\"color: #008080; text-decoration-color: #008080\">       78.23</span> │ <span style=\"color: #008080; text-decoration-color: #008080\">                       0.28</span> │ <span style=\"color: #008080; text-decoration-color: #008080\">                    118</span> │  │\n",
       "│ │ <span style=\"color: #af87ff; text-decoration-color: #af87ff\">Embarked                </span> │ <span style=\"color: #008080; text-decoration-color: #008080\">       0</span> │ <span style=\"color: #008080; text-decoration-color: #008080\">           0</span> │ <span style=\"color: #008080; text-decoration-color: #008080\">                          1</span> │ <span style=\"color: #008080; text-decoration-color: #008080\">                    418</span> │  │\n",
       "│ └──────────────────────────┴──────────┴──────────────┴─────────────────────────────┴─────────────────────────┘  │\n",
       "╰────────────────────────────────────────────────────── End ──────────────────────────────────────────────────────╯\n",
       "</pre>\n"
      ],
      "text/plain": [
       "╭──────────────────────────────────────────────── skimpy summary ─────────────────────────────────────────────────╮\n",
       "│ \u001b[3m         Data Summary         \u001b[0m \u001b[3m      Data Types       \u001b[0m                                                          │\n",
       "│ ┏━━━━━━━━━━━━━━━━━━━┳━━━━━━━━┓ ┏━━━━━━━━━━━━━┳━━━━━━━┓                                                          │\n",
       "│ ┃\u001b[1;36m \u001b[0m\u001b[1;36mdataframe        \u001b[0m\u001b[1;36m \u001b[0m┃\u001b[1;36m \u001b[0m\u001b[1;36mValues\u001b[0m\u001b[1;36m \u001b[0m┃ ┃\u001b[1;36m \u001b[0m\u001b[1;36mColumn Type\u001b[0m\u001b[1;36m \u001b[0m┃\u001b[1;36m \u001b[0m\u001b[1;36mCount\u001b[0m\u001b[1;36m \u001b[0m┃                                                          │\n",
       "│ ┡━━━━━━━━━━━━━━━━━━━╇━━━━━━━━┩ ┡━━━━━━━━━━━━━╇━━━━━━━┩                                                          │\n",
       "│ │ Number of rows    │ 418    │ │ int32       │ 5     │                                                          │\n",
       "│ │ Number of columns │ 12     │ │ string      │ 5     │                                                          │\n",
       "│ └───────────────────┴────────┘ │ float64     │ 2     │                                                          │\n",
       "│                                └─────────────┴───────┘                                                          │\n",
       "│ \u001b[3m                                                    number                                                    \u001b[0m  │\n",
       "│ ┏━━━━━━━━━━━━━━━━━━┳━━━━━━┳━━━━━━━━━━┳━━━━━━━━┳━━━━━━━━┳━━━━━━━━┳━━━━━━━━┳━━━━━━━━┳━━━━━━━━┳━━━━━━━┳━━━━━━━━━┓  │\n",
       "│ ┃\u001b[1m \u001b[0m\u001b[1mcolumn_name     \u001b[0m\u001b[1m \u001b[0m┃\u001b[1m \u001b[0m\u001b[1mNA  \u001b[0m\u001b[1m \u001b[0m┃\u001b[1m \u001b[0m\u001b[1mNA %    \u001b[0m\u001b[1m \u001b[0m┃\u001b[1m \u001b[0m\u001b[1mmean  \u001b[0m\u001b[1m \u001b[0m┃\u001b[1m \u001b[0m\u001b[1msd    \u001b[0m\u001b[1m \u001b[0m┃\u001b[1m \u001b[0m\u001b[1mp0    \u001b[0m\u001b[1m \u001b[0m┃\u001b[1m \u001b[0m\u001b[1mp25   \u001b[0m\u001b[1m \u001b[0m┃\u001b[1m \u001b[0m\u001b[1mp50   \u001b[0m\u001b[1m \u001b[0m┃\u001b[1m \u001b[0m\u001b[1mp75   \u001b[0m\u001b[1m \u001b[0m┃\u001b[1m \u001b[0m\u001b[1mp100 \u001b[0m\u001b[1m \u001b[0m┃\u001b[1m \u001b[0m\u001b[1mhist   \u001b[0m\u001b[1m \u001b[0m┃  │\n",
       "│ ┡━━━━━━━━━━━━━━━━━━╇━━━━━━╇━━━━━━━━━━╇━━━━━━━━╇━━━━━━━━╇━━━━━━━━╇━━━━━━━━╇━━━━━━━━╇━━━━━━━━╇━━━━━━━╇━━━━━━━━━┩  │\n",
       "│ │ \u001b[38;5;141mPassengerId     \u001b[0m │ \u001b[36m   0\u001b[0m │ \u001b[36m       0\u001b[0m │ \u001b[36m  1100\u001b[0m │ \u001b[36m   120\u001b[0m │ \u001b[36m   890\u001b[0m │ \u001b[36m  1000\u001b[0m │ \u001b[36m  1100\u001b[0m │ \u001b[36m  1200\u001b[0m │ \u001b[36m 1300\u001b[0m │ \u001b[32m▇▇▇▇▇▇ \u001b[0m │  │\n",
       "│ │ \u001b[38;5;141mSurvived        \u001b[0m │ \u001b[36m   0\u001b[0m │ \u001b[36m       0\u001b[0m │ \u001b[36m  0.36\u001b[0m │ \u001b[36m  0.48\u001b[0m │ \u001b[36m     0\u001b[0m │ \u001b[36m     0\u001b[0m │ \u001b[36m     0\u001b[0m │ \u001b[36m     1\u001b[0m │ \u001b[36m    1\u001b[0m │ \u001b[32m▇    ▅ \u001b[0m │  │\n",
       "│ │ \u001b[38;5;141mPclass          \u001b[0m │ \u001b[36m   0\u001b[0m │ \u001b[36m       0\u001b[0m │ \u001b[36m   2.3\u001b[0m │ \u001b[36m  0.84\u001b[0m │ \u001b[36m     1\u001b[0m │ \u001b[36m     1\u001b[0m │ \u001b[36m     3\u001b[0m │ \u001b[36m     3\u001b[0m │ \u001b[36m    3\u001b[0m │ \u001b[32m▃  ▃ ▇ \u001b[0m │  │\n",
       "│ │ \u001b[38;5;141mAge             \u001b[0m │ \u001b[36m  86\u001b[0m │ \u001b[36m   20.57\u001b[0m │ \u001b[36m    30\u001b[0m │ \u001b[36m    14\u001b[0m │ \u001b[36m  0.17\u001b[0m │ \u001b[36m    21\u001b[0m │ \u001b[36m    27\u001b[0m │ \u001b[36m    39\u001b[0m │ \u001b[36m   76\u001b[0m │ \u001b[32m ▂▇▇▃▂ \u001b[0m │  │\n",
       "│ │ \u001b[38;5;141mSibSp           \u001b[0m │ \u001b[36m   0\u001b[0m │ \u001b[36m       0\u001b[0m │ \u001b[36m  0.45\u001b[0m │ \u001b[36m   0.9\u001b[0m │ \u001b[36m     0\u001b[0m │ \u001b[36m     0\u001b[0m │ \u001b[36m     0\u001b[0m │ \u001b[36m     1\u001b[0m │ \u001b[36m    8\u001b[0m │ \u001b[32m   ▇   \u001b[0m │  │\n",
       "│ │ \u001b[38;5;141mParch           \u001b[0m │ \u001b[36m   0\u001b[0m │ \u001b[36m       0\u001b[0m │ \u001b[36m  0.39\u001b[0m │ \u001b[36m  0.98\u001b[0m │ \u001b[36m     0\u001b[0m │ \u001b[36m     0\u001b[0m │ \u001b[36m     0\u001b[0m │ \u001b[36m     0\u001b[0m │ \u001b[36m    9\u001b[0m │ \u001b[32m  ▇▁   \u001b[0m │  │\n",
       "│ │ \u001b[38;5;141mFare            \u001b[0m │ \u001b[36m   1\u001b[0m │ \u001b[36m    0.24\u001b[0m │ \u001b[36m    36\u001b[0m │ \u001b[36m    56\u001b[0m │ \u001b[36m     0\u001b[0m │ \u001b[36m   7.9\u001b[0m │ \u001b[36m    14\u001b[0m │ \u001b[36m    32\u001b[0m │ \u001b[36m  510\u001b[0m │ \u001b[32m   ▇   \u001b[0m │  │\n",
       "│ └──────────────────┴──────┴──────────┴────────┴────────┴────────┴────────┴────────┴────────┴───────┴─────────┘  │\n",
       "│ \u001b[3m                                                    string                                                    \u001b[0m  │\n",
       "│ ┏━━━━━━━━━━━━━━━━━━━━━━━━━━┳━━━━━━━━━━┳━━━━━━━━━━━━━━┳━━━━━━━━━━━━━━━━━━━━━━━━━━━━━┳━━━━━━━━━━━━━━━━━━━━━━━━━┓  │\n",
       "│ ┃\u001b[1m \u001b[0m\u001b[1mcolumn_name             \u001b[0m\u001b[1m \u001b[0m┃\u001b[1m \u001b[0m\u001b[1mNA      \u001b[0m\u001b[1m \u001b[0m┃\u001b[1m \u001b[0m\u001b[1mNA %        \u001b[0m\u001b[1m \u001b[0m┃\u001b[1m \u001b[0m\u001b[1mwords per row              \u001b[0m\u001b[1m \u001b[0m┃\u001b[1m \u001b[0m\u001b[1mtotal words            \u001b[0m\u001b[1m \u001b[0m┃  │\n",
       "│ ┡━━━━━━━━━━━━━━━━━━━━━━━━━━╇━━━━━━━━━━╇━━━━━━━━━━━━━━╇━━━━━━━━━━━━━━━━━━━━━━━━━━━━━╇━━━━━━━━━━━━━━━━━━━━━━━━━┩  │\n",
       "│ │ \u001b[38;5;141mName                    \u001b[0m │ \u001b[36m       0\u001b[0m │ \u001b[36m           0\u001b[0m │ \u001b[36m                        4.1\u001b[0m │ \u001b[36m                   1727\u001b[0m │  │\n",
       "│ │ \u001b[38;5;141mSex                     \u001b[0m │ \u001b[36m       0\u001b[0m │ \u001b[36m           0\u001b[0m │ \u001b[36m                          1\u001b[0m │ \u001b[36m                    418\u001b[0m │  │\n",
       "│ │ \u001b[38;5;141mTicket                  \u001b[0m │ \u001b[36m       0\u001b[0m │ \u001b[36m           0\u001b[0m │ \u001b[36m                        1.3\u001b[0m │ \u001b[36m                    543\u001b[0m │  │\n",
       "│ │ \u001b[38;5;141mCabin                   \u001b[0m │ \u001b[36m     327\u001b[0m │ \u001b[36m       78.23\u001b[0m │ \u001b[36m                       0.28\u001b[0m │ \u001b[36m                    118\u001b[0m │  │\n",
       "│ │ \u001b[38;5;141mEmbarked                \u001b[0m │ \u001b[36m       0\u001b[0m │ \u001b[36m           0\u001b[0m │ \u001b[36m                          1\u001b[0m │ \u001b[36m                    418\u001b[0m │  │\n",
       "│ └──────────────────────────┴──────────┴──────────────┴─────────────────────────────┴─────────────────────────┘  │\n",
       "╰────────────────────────────────────────────────────── End ──────────────────────────────────────────────────────╯\n"
      ]
     },
     "metadata": {},
     "output_type": "display_data"
    }
   ],
   "source": [
    "skim(df)"
   ]
  },
  {
   "cell_type": "code",
   "execution_count": 43,
   "id": "cf9af181",
   "metadata": {},
   "outputs": [
    {
     "name": "stdout",
     "output_type": "stream",
     "text": [
      "<class 'pandas.core.frame.DataFrame'>\n",
      "RangeIndex: 418 entries, 0 to 417\n",
      "Data columns (total 12 columns):\n",
      " #   Column       Non-Null Count  Dtype  \n",
      "---  ------       --------------  -----  \n",
      " 0   PassengerId  418 non-null    int64  \n",
      " 1   Survived     418 non-null    int64  \n",
      " 2   Pclass       418 non-null    int64  \n",
      " 3   Name         418 non-null    object \n",
      " 4   Sex          418 non-null    object \n",
      " 5   Age          332 non-null    float64\n",
      " 6   SibSp        418 non-null    int64  \n",
      " 7   Parch        418 non-null    int64  \n",
      " 8   Ticket       418 non-null    object \n",
      " 9   Fare         417 non-null    float64\n",
      " 10  Cabin        91 non-null     object \n",
      " 11  Embarked     418 non-null    object \n",
      "dtypes: float64(2), int64(5), object(5)\n",
      "memory usage: 39.3+ KB\n"
     ]
    }
   ],
   "source": [
    "df.info()"
   ]
  },
  {
   "cell_type": "code",
   "execution_count": 44,
   "id": "5247f198",
   "metadata": {},
   "outputs": [
    {
     "data": {
      "text/html": [
       "<div>\n",
       "<style scoped>\n",
       "    .dataframe tbody tr th:only-of-type {\n",
       "        vertical-align: middle;\n",
       "    }\n",
       "\n",
       "    .dataframe tbody tr th {\n",
       "        vertical-align: top;\n",
       "    }\n",
       "\n",
       "    .dataframe thead th {\n",
       "        text-align: right;\n",
       "    }\n",
       "</style>\n",
       "<table border=\"1\" class=\"dataframe\">\n",
       "  <thead>\n",
       "    <tr style=\"text-align: right;\">\n",
       "      <th></th>\n",
       "      <th>PassengerId</th>\n",
       "      <th>Survived</th>\n",
       "      <th>Pclass</th>\n",
       "      <th>Age</th>\n",
       "      <th>SibSp</th>\n",
       "      <th>Parch</th>\n",
       "      <th>Fare</th>\n",
       "    </tr>\n",
       "  </thead>\n",
       "  <tbody>\n",
       "    <tr>\n",
       "      <th>count</th>\n",
       "      <td>418.000000</td>\n",
       "      <td>418.000000</td>\n",
       "      <td>418.000000</td>\n",
       "      <td>332.000000</td>\n",
       "      <td>418.000000</td>\n",
       "      <td>418.000000</td>\n",
       "      <td>417.000000</td>\n",
       "    </tr>\n",
       "    <tr>\n",
       "      <th>mean</th>\n",
       "      <td>1100.500000</td>\n",
       "      <td>0.363636</td>\n",
       "      <td>2.265550</td>\n",
       "      <td>30.272590</td>\n",
       "      <td>0.447368</td>\n",
       "      <td>0.392344</td>\n",
       "      <td>35.627188</td>\n",
       "    </tr>\n",
       "    <tr>\n",
       "      <th>std</th>\n",
       "      <td>120.810458</td>\n",
       "      <td>0.481622</td>\n",
       "      <td>0.841838</td>\n",
       "      <td>14.181209</td>\n",
       "      <td>0.896760</td>\n",
       "      <td>0.981429</td>\n",
       "      <td>55.907576</td>\n",
       "    </tr>\n",
       "    <tr>\n",
       "      <th>min</th>\n",
       "      <td>892.000000</td>\n",
       "      <td>0.000000</td>\n",
       "      <td>1.000000</td>\n",
       "      <td>0.170000</td>\n",
       "      <td>0.000000</td>\n",
       "      <td>0.000000</td>\n",
       "      <td>0.000000</td>\n",
       "    </tr>\n",
       "    <tr>\n",
       "      <th>25%</th>\n",
       "      <td>996.250000</td>\n",
       "      <td>0.000000</td>\n",
       "      <td>1.000000</td>\n",
       "      <td>21.000000</td>\n",
       "      <td>0.000000</td>\n",
       "      <td>0.000000</td>\n",
       "      <td>7.895800</td>\n",
       "    </tr>\n",
       "    <tr>\n",
       "      <th>50%</th>\n",
       "      <td>1100.500000</td>\n",
       "      <td>0.000000</td>\n",
       "      <td>3.000000</td>\n",
       "      <td>27.000000</td>\n",
       "      <td>0.000000</td>\n",
       "      <td>0.000000</td>\n",
       "      <td>14.454200</td>\n",
       "    </tr>\n",
       "    <tr>\n",
       "      <th>75%</th>\n",
       "      <td>1204.750000</td>\n",
       "      <td>1.000000</td>\n",
       "      <td>3.000000</td>\n",
       "      <td>39.000000</td>\n",
       "      <td>1.000000</td>\n",
       "      <td>0.000000</td>\n",
       "      <td>31.500000</td>\n",
       "    </tr>\n",
       "    <tr>\n",
       "      <th>max</th>\n",
       "      <td>1309.000000</td>\n",
       "      <td>1.000000</td>\n",
       "      <td>3.000000</td>\n",
       "      <td>76.000000</td>\n",
       "      <td>8.000000</td>\n",
       "      <td>9.000000</td>\n",
       "      <td>512.329200</td>\n",
       "    </tr>\n",
       "  </tbody>\n",
       "</table>\n",
       "</div>"
      ],
      "text/plain": [
       "       PassengerId    Survived      Pclass         Age       SibSp  \\\n",
       "count   418.000000  418.000000  418.000000  332.000000  418.000000   \n",
       "mean   1100.500000    0.363636    2.265550   30.272590    0.447368   \n",
       "std     120.810458    0.481622    0.841838   14.181209    0.896760   \n",
       "min     892.000000    0.000000    1.000000    0.170000    0.000000   \n",
       "25%     996.250000    0.000000    1.000000   21.000000    0.000000   \n",
       "50%    1100.500000    0.000000    3.000000   27.000000    0.000000   \n",
       "75%    1204.750000    1.000000    3.000000   39.000000    1.000000   \n",
       "max    1309.000000    1.000000    3.000000   76.000000    8.000000   \n",
       "\n",
       "            Parch        Fare  \n",
       "count  418.000000  417.000000  \n",
       "mean     0.392344   35.627188  \n",
       "std      0.981429   55.907576  \n",
       "min      0.000000    0.000000  \n",
       "25%      0.000000    7.895800  \n",
       "50%      0.000000   14.454200  \n",
       "75%      0.000000   31.500000  \n",
       "max      9.000000  512.329200  "
      ]
     },
     "execution_count": 44,
     "metadata": {},
     "output_type": "execute_result"
    }
   ],
   "source": [
    "df.describe()"
   ]
  },
  {
   "cell_type": "code",
   "execution_count": 45,
   "id": "eefca310",
   "metadata": {},
   "outputs": [
    {
     "data": {
      "text/plain": [
       "(418, 12)"
      ]
     },
     "execution_count": 45,
     "metadata": {},
     "output_type": "execute_result"
    }
   ],
   "source": [
    "df.shape"
   ]
  },
  {
   "cell_type": "code",
   "execution_count": 46,
   "id": "1a9c4345",
   "metadata": {},
   "outputs": [
    {
     "data": {
      "text/plain": [
       "PassengerId      0\n",
       "Survived         0\n",
       "Pclass           0\n",
       "Name             0\n",
       "Sex              0\n",
       "Age             86\n",
       "SibSp            0\n",
       "Parch            0\n",
       "Ticket           0\n",
       "Fare             1\n",
       "Cabin          327\n",
       "Embarked         0\n",
       "dtype: int64"
      ]
     },
     "execution_count": 46,
     "metadata": {},
     "output_type": "execute_result"
    }
   ],
   "source": [
    "df.isna().sum()"
   ]
  },
  {
   "cell_type": "code",
   "execution_count": 47,
   "id": "8475a677",
   "metadata": {},
   "outputs": [],
   "source": [
    "df = df.drop(columns=['Cabin'], axis=1)\n"
   ]
  },
  {
   "cell_type": "code",
   "execution_count": 48,
   "id": "3fdfc2c5",
   "metadata": {},
   "outputs": [
    {
     "data": {
      "text/plain": [
       "Survived\n",
       "0    266\n",
       "1    152\n",
       "Name: count, dtype: int64"
      ]
     },
     "execution_count": 48,
     "metadata": {},
     "output_type": "execute_result"
    }
   ],
   "source": [
    "df['Survived'].value_counts()"
   ]
  },
  {
   "cell_type": "code",
   "execution_count": 49,
   "id": "fdace15b",
   "metadata": {},
   "outputs": [
    {
     "data": {
      "text/plain": [
       "<Axes: xlabel='Survived', ylabel='count'>"
      ]
     },
     "execution_count": 49,
     "metadata": {},
     "output_type": "execute_result"
    },
    {
     "data": {
      "image/png": "[encoded data removed]",
      "text/plain": [
       "<Figure size 640x480 with 1 Axes>"
      ]
     },
     "metadata": {},
     "output_type": "display_data"
    }
   ],
   "source": [
    "sns.countplot(x='Survived',data=df)"
   ]
  },
  {
   "cell_type": "code",
   "execution_count": 52,
   "id": "cf03796e",
   "metadata": {},
   "outputs": [
    {
     "data": {
      "image/png": "[encoded data removed]",
      "text/plain": [
       "<Figure size 1200x600 with 2 Axes>"
      ]
     },
     "metadata": {},
     "output_type": "display_data"
    }
   ],
   "source": [
    "plt.figure(figsize=(12, 6))\n",
    "\n",
    "# Creating the first subplot - countplot\n",
    "ax1 = plt.subplot(1, 2, 1)\n",
    "sns.countplot(x='Sex', data=df, ax=ax1)\n",
    "ax1.set_title('Sex Count')\n",
    "\n",
    "# Creating the second subplot - pie chart\n",
    "ax2 = plt.subplot(1, 2, 2)\n",
    "df['Sex'].value_counts().plot.pie(explode=[0.1, 0.1], autopct='%1.2f%%', shadow=True, ax=ax2)\n",
    "ax2.set_title('Sex Distribution')\n",
    "\n",
    "plt.tight_layout()  # Ensures subplots do not overlap\n",
    "plt.show()"
   ]
  },
  {
   "cell_type": "code",
   "execution_count": 35,
   "id": "1be0421e",
   "metadata": {},
   "outputs": [],
   "source": [
    "# Handle missing values\n",
    "df.fillna(method='ffill', inplace=True)"
   ]
  },
  {
   "cell_type": "code",
   "execution_count": 26,
   "id": "c865762a",
   "metadata": {},
   "outputs": [],
   "source": [
    "# Converting categorical variables to numerical using one-hot encoding\n",
    "df = pd.get_dummies(df, columns=['Sex', 'Embarked', 'Pclass'], drop_first=True)"
   ]
  },
  {
   "cell_type": "code",
   "execution_count": 27,
   "id": "32a77617",
   "metadata": {},
   "outputs": [],
   "source": [
    "# Selecting relevant features for prediction excluding the non-numeric columns\n",
    "features = ['Age', 'SibSp', 'Parch', 'Fare', 'Sex_male', 'Embarked_Q', 'Embarked_S', 'Pclass_2', 'Pclass_3']\n",
    "X = df[features]\n",
    "Y = df['Survived']"
   ]
  },
  {
   "cell_type": "code",
   "execution_count": 53,
   "id": "7d8c32b5",
   "metadata": {},
   "outputs": [],
   "source": [
    "X_train, X_test, Y_train, Y_test = train_test_split(X,Y, test_size = 0.2, random_state = 42)\n",
    "\n",
    "# Standardizing the features\n",
    "scaler = StandardScaler()\n",
    "X_train = scaler.fit_transform(X_train)\n",
    "X_test = scaler.transform(X_test)"
   ]
  },
  {
   "cell_type": "code",
   "execution_count": 54,
   "id": "f16e0ed7",
   "metadata": {},
   "outputs": [
    {
     "name": "stdout",
     "output_type": "stream",
     "text": [
      "(418, 9) (334, 9) (84, 9)\n"
     ]
    }
   ],
   "source": [
    "print(X.shape, X_train.shape, X_test.shape)"
   ]
  },
  {
   "cell_type": "code",
   "execution_count": 55,
   "id": "c794ff64",
   "metadata": {},
   "outputs": [
    {
     "data": {
      "text/html": [
       "<style>#sk-container-id-1 {color: black;}#sk-container-id-1 pre{padding: 0;}#sk-container-id-1 div.sk-toggleable {background-color: white;}#sk-container-id-1 label.sk-toggleable__label {cursor: pointer;display: block;width: 100%;margin-bottom: 0;padding: 0.3em;box-sizing: border-box;text-align: center;}#sk-container-id-1 label.sk-toggleable__label-arrow:before {content: \"▸\";float: left;margin-right: 0.25em;color: #696969;}#sk-container-id-1 label.sk-toggleable__label-arrow:hover:before {color: black;}#sk-container-id-1 div.sk-estimator:hover label.sk-toggleable__label-arrow:before {color: black;}#sk-container-id-1 div.sk-toggleable__content {max-height: 0;max-width: 0;overflow: hidden;text-align: left;background-color: #f0f8ff;}#sk-container-id-1 div.sk-toggleable__content pre {margin: 0.2em;color: black;border-radius: 0.25em;background-color: #f0f8ff;}#sk-container-id-1 input.sk-toggleable__control:checked~div.sk-toggleable__content {max-height: 200px;max-width: 100%;overflow: auto;}#sk-container-id-1 input.sk-toggleable__control:checked~label.sk-toggleable__label-arrow:before {content: \"▾\";}#sk-container-id-1 div.sk-estimator input.sk-toggleable__control:checked~label.sk-toggleable__label {background-color: #d4ebff;}#sk-container-id-1 div.sk-label input.sk-toggleable__control:checked~label.sk-toggleable__label {background-color: #d4ebff;}#sk-container-id-1 input.sk-hidden--visually {border: 0;clip: rect(1px 1px 1px 1px);clip: rect(1px, 1px, 1px, 1px);height: 1px;margin: -1px;overflow: hidden;padding: 0;position: absolute;width: 1px;}#sk-container-id-1 div.sk-estimator {font-family: monospace;background-color: #f0f8ff;border: 1px dotted black;border-radius: 0.25em;box-sizing: border-box;margin-bottom: 0.5em;}#sk-container-id-1 div.sk-estimator:hover {background-color: #d4ebff;}#sk-container-id-1 div.sk-parallel-item::after {content: \"\";width: 100%;border-bottom: 1px solid gray;flex-grow: 1;}#sk-container-id-1 div.sk-label:hover label.sk-toggleable__label {background-color: #d4ebff;}#sk-container-id-1 div.sk-serial::before {content: \"\";position: absolute;border-left: 1px solid gray;box-sizing: border-box;top: 0;bottom: 0;left: 50%;z-index: 0;}#sk-container-id-1 div.sk-serial {display: flex;flex-direction: column;align-items: center;background-color: white;padding-right: 0.2em;padding-left: 0.2em;position: relative;}#sk-container-id-1 div.sk-item {position: relative;z-index: 1;}#sk-container-id-1 div.sk-parallel {display: flex;align-items: stretch;justify-content: center;background-color: white;position: relative;}#sk-container-id-1 div.sk-item::before, #sk-container-id-1 div.sk-parallel-item::before {content: \"\";position: absolute;border-left: 1px solid gray;box-sizing: border-box;top: 0;bottom: 0;left: 50%;z-index: -1;}#sk-container-id-1 div.sk-parallel-item {display: flex;flex-direction: column;z-index: 1;position: relative;background-color: white;}#sk-container-id-1 div.sk-parallel-item:first-child::after {align-self: flex-end;width: 50%;}#sk-container-id-1 div.sk-parallel-item:last-child::after {align-self: flex-start;width: 50%;}#sk-container-id-1 div.sk-parallel-item:only-child::after {width: 0;}#sk-container-id-1 div.sk-dashed-wrapped {border: 1px dashed gray;margin: 0 0.4em 0.5em 0.4em;box-sizing: border-box;padding-bottom: 0.4em;background-color: white;}#sk-container-id-1 div.sk-label label {font-family: monospace;font-weight: bold;display: inline-block;line-height: 1.2em;}#sk-container-id-1 div.sk-label-container {text-align: center;}#sk-container-id-1 div.sk-container {/* jupyter's `normalize.less` sets `[hidden] { display: none; }` but bootstrap.min.css set `[hidden] { display: none !important; }` so we also need the `!important` here to be able to override the default hidden behavior on the sphinx rendered scikit-learn.org. See: https://github.com/scikit-learn/scikit-learn/issues/21755 */display: inline-block !important;position: relative;}#sk-container-id-1 div.sk-text-repr-fallback {display: none;}</style><div id=\"sk-container-id-1\" class=\"sk-top-container\"><div class=\"sk-text-repr-fallback\"><pre>LogisticRegression(random_state=42)</pre><b>In a Jupyter environment, please rerun this cell to show the HTML representation or trust the notebook. <br />On GitHub, the HTML representation is unable to render, please try loading this page with nbviewer.org.</b></div><div class=\"sk-container\" hidden><div class=\"sk-item\"><div class=\"sk-estimator sk-toggleable\"><input class=\"sk-toggleable__control sk-hidden--visually\" id=\"sk-estimator-id-1\" type=\"checkbox\" checked><label for=\"sk-estimator-id-1\" class=\"sk-toggleable__label sk-toggleable__label-arrow\">LogisticRegression</label><div class=\"sk-toggleable__content\"><pre>LogisticRegression(random_state=42)</pre></div></div></div></div></div>"
      ],
      "text/plain": [
       "LogisticRegression(random_state=42)"
      ]
     },
     "execution_count": 55,
     "metadata": {},
     "output_type": "execute_result"
    }
   ],
   "source": [
    "\n",
    "model = LogisticRegression(random_state = 42)\n",
    "model.fit(X_train, Y_train)"
   ]
  },
  {
   "cell_type": "code",
   "execution_count": 56,
   "id": "a435b9d5",
   "metadata": {},
   "outputs": [
    {
     "name": "stdout",
     "output_type": "stream",
     "text": [
      "Accuracy: 1.0\n"
     ]
    }
   ],
   "source": [
    "Y_pred = model.predict(X_test)\n",
    "\n",
    "# Evaluate the accuracy\n",
    "accuracy = accuracy_score(Y_test, Y_pred)\n",
    "print(\"Accuracy:\", accuracy)"
   ]
  },
  {
   "cell_type": "code",
   "execution_count": 58,
   "id": "5328af42",
   "metadata": {},
   "outputs": [
    {
     "data": {
      "image/png": "[encoded data removed]",
      "text/plain": [
       "<Figure size 800x600 with 2 Axes>"
      ]
     },
     "metadata": {},
     "output_type": "display_data"
    }
   ],
   "source": [
    "# Predicting labels using the trained model\n",
    "Y_pred = model.predict(X_test)\n",
    "\n",
    "# Creating a confusion matrix\n",
    "conf_matrix = confusion_matrix(Y_test, Y_pred)\n",
    "\n",
    "# Displaying the confusion matrix using a heatmap\n",
    "plt.figure(figsize=(8, 6))\n",
    "sns.heatmap(conf_matrix, annot=True, fmt='d', cmap='Blues')\n",
    "plt.xlabel('Predicted Labels')\n",
    "plt.ylabel('True Labels')\n",
    "plt.title('Confusion Matrix')\n",
    "plt.show()\n"
   ]
  },
  {
   "cell_type": "code",
   "execution_count": null,
   "id": "16fb6369",
   "metadata": {},
   "outputs": [],
   "source": []
  }
 ],
 "metadata": {
  "kernelspec": {
   "display_name": "Python 3 (ipykernel)",
   "language": "python",
   "name": "python3"
  },
  "language_info": {
   "codemirror_mode": {
    "name": "ipython",
    "version": 3
   },
   "file_extension": ".py",
   "mimetype": "text/x-python",
   "name": "python",
   "nbconvert_exporter": "python",
   "pygments_lexer": "ipython3",
   "version": "3.11.5"
  }
 },
 "nbformat": 4,
 "nbformat_minor": 5
}
